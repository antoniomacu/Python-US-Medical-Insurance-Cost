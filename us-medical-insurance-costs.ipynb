{
 "cells": [
  {
   "cell_type": "markdown",
   "metadata": {},
   "source": [
    "# U.S. Medical Insurance Costs\n",
    "\n",
    "- The purpose of this project is to analyze the population from the 'insurance.csv' file, in order to inspect how different\n",
    "  factors such as number of children, smoking, BMI percentage... can impact the insurance's costs.\n",
    "\n",
    "  For that an exploratory analysis using functions, diccionaries, loops and python algebra is been implemented during the course\n",
    "  of the project, sorting the data for clearness and efectiveness.\n",
    "\n",
    "  Lastly the data is been analyzed, resulting in conclusions about the data, possible trends regarding health factors and costs, and \n",
    "  possible bias in the data collected."
   ]
  },
  {
   "cell_type": "markdown",
   "metadata": {},
   "source": [
    "First the CSV  is imported and the dataset dictionary created to ease the work"
   ]
  },
  {
   "cell_type": "code",
   "execution_count": 1,
   "metadata": {},
   "outputs": [],
   "source": [
    "import csv\n",
    "with open('insurance.csv') as insurance_file:\n",
    "    dict = csv.DictReader(insurance_file, delimiter=',')\n",
    "\n",
    "    data = list(dict)\n",
    "    \n",
    "    dataset = {}\n",
    "    i = 0\n",
    "    for row in data:\n",
    "        dataset.update({i:row})\n",
    "        i += 1\n",
    "\n"
   ]
  },
  {
   "cell_type": "markdown",
   "metadata": {},
   "source": [
    "Analysis:\n",
    "* `Average age` of the patients"
   ]
  },
  {
   "cell_type": "code",
   "execution_count": 2,
   "metadata": {},
   "outputs": [
    {
     "name": "stdout",
     "output_type": "stream",
     "text": [
      "The average age is 39.20702541106129\n",
      "Max age: 64.0\n",
      "Min age 18.0\n"
     ]
    }
   ],
   "source": [
    "def avg_age(dataset):\n",
    "    sum_ages = 0\n",
    "    for subdict in dataset.values():\n",
    "        sum_ages += int(subdict['age'])\n",
    "    average = sum_ages / len(dataset.keys())\n",
    "    return average\n",
    "\n",
    "average_age = avg_age(dataset)\n",
    "print(\"The average age is\", average_age)\n",
    "\n",
    "def age_spread(dict):\n",
    "    ages = []\n",
    "    for subset in dict.values():\n",
    "        ages.append(float(subset['age']))\n",
    "    \n",
    "    max_age = max(ages)\n",
    "    min_age = min(ages)\n",
    "    print(\"Max age:\", max_age)\n",
    "    print(\"Min age\", min_age)\n",
    "\n",
    "age_spread(dataset)"
   ]
  },
  {
   "cell_type": "markdown",
   "metadata": {},
   "source": [
    "* `Number of men and women`"
   ]
  },
  {
   "cell_type": "code",
   "execution_count": 3,
   "metadata": {},
   "outputs": [
    {
     "name": "stdout",
     "output_type": "stream",
     "text": [
      "Number of men: 676\n",
      "Number of women: 662\n"
     ]
    }
   ],
   "source": [
    "def genre(dataset):\n",
    "    men = 0\n",
    "    women = 0\n",
    "    for subdict in dataset.values():\n",
    "        if subdict['sex'] == 'male':\n",
    "            men += 1\n",
    "        else: women += 1\n",
    "    return men, women\n",
    "\n",
    "men, women = genre(dataset)\n",
    "print(\"Number of men:\", men)\n",
    "print(\"Number of women:\", women)\n",
    "\n",
    "# Here the population is divided in 2 datasets [male_data, female_data] for further analysis with them\n",
    "def male_divider(dataset):\n",
    "    men_dataset = {}\n",
    "    i=0\n",
    "    for subdict in dataset.values():\n",
    "        if subdict['sex'] == 'male':\n",
    "            men_dataset.update({i:subdict})\n",
    "            i +=1        \n",
    "    return men_dataset\n",
    "\n",
    "def female_divider(dataset):\n",
    "    female_dataset = {}\n",
    "    i=0\n",
    "    for subdict in dataset.values():\n",
    "        if subdict['sex'] == 'female':\n",
    "            female_dataset.update({i:subdict})\n",
    "            i +=1        \n",
    "    return female_dataset\n",
    "\n",
    "male_data = male_divider(dataset)\n",
    "female_data = female_divider(dataset)\n",
    "\n"
   ]
  },
  {
   "cell_type": "markdown",
   "metadata": {},
   "source": [
    "* `Fertility by men / women`"
   ]
  },
  {
   "cell_type": "code",
   "execution_count": 4,
   "metadata": {},
   "outputs": [
    {
     "name": "stdout",
     "output_type": "stream",
     "text": [
      "Men fertility: 754\n",
      "Women fertility: 711\n",
      "Average nº of children of men:1.1153846153846154\n",
      "Average nº of children of women:1.0740181268882176\n",
      "Average children of the 14 men surpluss: 3.0714285714285716\n"
     ]
    }
   ],
   "source": [
    "def fertility(dataset):\n",
    "    fertility = 0\n",
    "    for subdict in dataset.values():\n",
    "        fertility += int(subdict['children'])\n",
    "    return fertility\n",
    "\n",
    "men_fertility = fertility(male_data)\n",
    "women_fertility = fertility(female_data)\n",
    "\n",
    "print(\"Men fertility:\", men_fertility)\n",
    "print(\"Women fertility:\", women_fertility)\n",
    "\n",
    "\n",
    "Avg_children_men = men_fertility / men\n",
    "Avg_children_women = women_fertility / women\n",
    "\n",
    "print(\"Average nº of children of men:\" +str(Avg_children_men))\n",
    "print(\"Average nº of children of women:\" +str(Avg_children_women))\n",
    "\n",
    "# this is to analyze if there's any kind of bias relating the fertility but seems a reasonable average value\n",
    "children_diff = men_fertility - women_fertility\n",
    "men_surplus = men - women\n",
    "print(\"Average children of the 14 men surpluss:\", children_diff/men_surplus)"
   ]
  },
  {
   "cell_type": "markdown",
   "metadata": {},
   "source": [
    "* Costs by `number of children`"
   ]
  },
  {
   "cell_type": "code",
   "execution_count": 5,
   "metadata": {},
   "outputs": [
    {
     "name": "stdout",
     "output_type": "stream",
     "text": [
      "{'0': 7098069.995338997, '1': 4124899.673449997, '2': 3617655.296149999, '3': 2410784.983589999, '+4': 504415.04222999985} {'0': 574, '1': 324, '2': 240, '3': 157, '+4': 43}\n",
      "Average cost for 0 children: 12365.975601635882\n",
      "Average cost for 1 children: 12731.171831635793\n",
      "Average cost for 2 children: 15073.563733958328\n",
      "Average cost for 3 children: 15355.31836681528\n",
      "Average cost for +4 children: 11730.582377441857\n"
     ]
    }
   ],
   "source": [
    "def children_cost_classifier(dataset):\n",
    "    children_costs = {\"0\":0, \"1\":0, \"2\":0, \"3\":0, \"+4\":0}\n",
    "    parents_counter = {\"0\":0, \"1\":0, \"2\":0, \"3\":0, \"+4\":0}\n",
    "    for subdict in dataset.values():\n",
    "        if subdict['children'] == '0':\n",
    "            children_costs[\"0\"] += float(subdict['charges'])\n",
    "            parents_counter[\"0\"] += 1\n",
    "        elif subdict['children'] == '1':\n",
    "            children_costs[\"1\"] += float(subdict['charges'])\n",
    "            parents_counter[\"1\"] += 1\n",
    "        elif subdict['children'] == '2':\n",
    "            children_costs[\"2\"] += float(subdict['charges'])\n",
    "            parents_counter[\"2\"] += 1\n",
    "        elif subdict['children'] == '3':\n",
    "            children_costs[\"3\"] += float(subdict['charges'])\n",
    "            parents_counter[\"3\"] += 1\n",
    "        else:\n",
    "            children_costs[\"+4\"] += float(subdict['charges'])\n",
    "            parents_counter[\"+4\"] += 1\n",
    "    return children_costs, parents_counter\n",
    "\n",
    "children_cost, parent_counter = children_cost_classifier(dataset)\n",
    "\n",
    "print(children_cost, parent_counter)\n",
    "\n",
    "def avg_children_cost(dict1, dict2):\n",
    "    cost = list(dict1.values())\n",
    "    persons = list(dict2.values())\n",
    "    keys = list(dict1.keys())\n",
    "    for i in range(len(cost)):\n",
    "        average_cost = cost[i]/persons[i]\n",
    "        print(\"Average cost for\", keys[i], \"children:\", average_cost)\n",
    "\n",
    "avg_c_cost = avg_children_cost(children_cost, parent_counter)\n",
    "        "
   ]
  },
  {
   "cell_type": "markdown",
   "metadata": {},
   "source": [
    "* Classification by `regions - total costs per region`"
   ]
  },
  {
   "cell_type": "code",
   "execution_count": 6,
   "metadata": {},
   "outputs": [
    {
     "name": "stdout",
     "output_type": "stream",
     "text": [
      "{'southwest': [325, 4012754.647620001], 'southeast': [364, 5363689.763290002], 'northwest': [325, 4035711.9965399993], 'northeast': [324, 4343668.583308999]}\n"
     ]
    }
   ],
   "source": [
    "def population_classifier(dataset):\n",
    "    population = {\"southwest\":[0,0], \"southeast\":[0,0], \"northwest\":[0,0], \"northeast\":[0,0]}\n",
    "    for subset in dataset.values():\n",
    "        if subset['region'] == 'southwest':\n",
    "            population[\"southwest\"][0] += 1\n",
    "            population[\"southwest\"][1] += float(subset['charges'])\n",
    "        elif subset['region'] == 'southeast':\n",
    "            population[\"southeast\"][0] += 1\n",
    "            population[\"southeast\"][1] += float(subset['charges'])\n",
    "        elif subset['region'] == 'northwest':\n",
    "            population[\"northwest\"][0] += 1\n",
    "            population[\"northwest\"][1] += float(subset['charges'])\n",
    "        else:\n",
    "            population[\"northeast\"][0] += 1\n",
    "            population[\"northeast\"][1] += float(subset['charges'])\n",
    "    return population\n",
    "        \n",
    "regions = population_classifier(dataset)\n",
    "print(regions)"
   ]
  },
  {
   "cell_type": "markdown",
   "metadata": {},
   "source": [
    "* `Smokers` Analysis:"
   ]
  },
  {
   "cell_type": "code",
   "execution_count": 7,
   "metadata": {},
   "outputs": [
    {
     "name": "stdout",
     "output_type": "stream",
     "text": [
      "Smokers classification: {'population': 274, 'min cost': 12829.4551, 'max cost': 63770.42801, 'total cost': 8781763.52184, 'average cost': 32050.23183153285}\n",
      "Non smokers classification: {'population': 1064, 'min cost': 1121.8739, 'max cost': 36910.60803, 'total cost': 8974061.468918996, 'average cost': 8434.268297856199}\n",
      "79.52167414050822\n"
     ]
    }
   ],
   "source": [
    "def smoker_classifier(dataset):\n",
    "    smokers = {\"population\":0, \"min cost\":16000.0, \"max cost\":0, \"total cost\":0, \"average cost\":0} # in min cost a random value is added to simplify the code\n",
    "    non_smokers = {\"population\":0, \"min cost\":16000.0, \"max cost\":0, \"total cost\":0, \"average cost\":0}\n",
    "    for subset in dataset.values():\n",
    "        if subset['smoker'] == 'yes':\n",
    "            smokers[\"population\"] += 1\n",
    "            smokers[\"total cost\"] += float(subset['charges'])\n",
    "            if float(subset['charges']) > smokers[\"max cost\"]:\n",
    "                smokers[\"max cost\"] = float(subset['charges'])\n",
    "            if float(subset['charges']) < smokers[\"min cost\"]:\n",
    "                smokers[\"min cost\"] = float(subset['charges'])\n",
    "        else:\n",
    "            non_smokers[\"population\"] += 1\n",
    "            non_smokers[\"total cost\"] += float(subset['charges'])\n",
    "            if float(subset['charges']) > non_smokers[\"max cost\"]:\n",
    "                non_smokers[\"max cost\"] = float(subset['charges'])\n",
    "            if float(subset['charges']) < non_smokers[\"min cost\"]:\n",
    "                non_smokers[\"min cost\"] = float(subset['charges'])\n",
    "\n",
    "    smokers[\"average cost\"] = smokers[\"total cost\"] / smokers[\"population\"]\n",
    "    non_smokers[\"average cost\"] = non_smokers[\"total cost\"] / non_smokers[\"population\"]\n",
    "    \n",
    "    return smokers, non_smokers\n",
    "\n",
    "smokers_classification, non_s_classification = smoker_classifier(dataset)\n",
    "\n",
    "print(\"Smokers classification:\", smokers_classification) \n",
    "print(\"Non smokers classification:\", non_s_classification)\n",
    "\n",
    "non_s_percentage = (non_s_classification['population'] / (men + women)) * 100\n",
    "print(non_s_percentage) \n",
    "    \n",
    "\n"
   ]
  },
  {
   "cell_type": "markdown",
   "metadata": {},
   "source": [
    "* `BMI` Analysis:"
   ]
  },
  {
   "cell_type": "code",
   "execution_count": 8,
   "metadata": {},
   "outputs": [
    {
     "name": "stdout",
     "output_type": "stream",
     "text": [
      "Men classification: {'average BMI': 30.943128698224832, 'max BMI': [53.13, 62592.87309], 'min BMI': [15.96, 1121.8739], 'average charge': 13956.751177721886}\n",
      "Women classification: {'average BMI': 30.377749244713023, 'max BMI': [48.07, 63770.42801], 'min BMI': [16.815, 1607.5101], 'average charge': 12569.57884383534}\n"
     ]
    }
   ],
   "source": [
    "def bmi_classifier(dict, genre):\n",
    "    bmi_classification = {\"average BMI\":0, \"max BMI\":[0,0], \"min BMI\":[0,0], \"average charge\": 0} #max and min bmi store the bmi value and the equivalent insurance cost\n",
    "    total_bmi= 0                                                                              \n",
    "    total_charge = 0\n",
    "    bmis = []\n",
    "    charges = []\n",
    "\n",
    "    for subdict in dict.values():\n",
    "        total_bmi += float(subdict['bmi'])\n",
    "        total_charge += float(subdict['charges'])\n",
    "        bmis.append(float(subdict['bmi']))\n",
    "        charges.append(float(subdict['charges']))\n",
    "    \n",
    "    bmi_classification['max BMI'][0] = max(bmis)\n",
    "    bmi_classification['max BMI'][1] = max(charges)\n",
    "    bmi_classification['min BMI'][0] = min(bmis)\n",
    "    bmi_classification['min BMI'][1] = min(charges)\n",
    "    bmi_classification['average BMI'] = total_bmi / genre\n",
    "    bmi_classification['average charge'] = total_charge / genre\n",
    "\n",
    "    return bmi_classification\n",
    "\n",
    "men_bmi = bmi_classifier(male_data, men)\n",
    "women_bmi = bmi_classifier(female_data, women)\n",
    "\n",
    "print(\"Men classification:\", men_bmi)\n",
    "print(\"Women classification:\", women_bmi)\n"
   ]
  },
  {
   "cell_type": "markdown",
   "metadata": {},
   "source": [
    "## Conclusions:\n",
    "\n",
    "1. #### Age distribution:\n",
    "    The population age's spread goes from 18 to 64 years with an average of 39.2, a balanced age distribution for the analysis.\n",
    "\n",
    "2. #### Genre distribution:\n",
    "    The data is well distributed with a total number of 676 males and 662 females, wich leaves a similar distribution of genres in the population.\n",
    "\n",
    "\n",
    "\n",
    "3. #### Fertility:\n",
    "    The fertility analysis has left this data:\n",
    "\n",
    "    * Male:          Avergare number of children = 1.12          Total male's population children = 754\n",
    "    * Female:        Avergare number of children = 1.074          Total female's population children = 711\n",
    "\n",
    "        * Average children from the male surpluss: 3.07 per male  (14 male surpluss)\n",
    "    \n",
    "    From this data it is clear that men from the population are in general more fertile than women. Also the surpluss seems plausible so apparently there ins't any\n",
    "    bias regarding this data.\n",
    "\n",
    "\n",
    "\n",
    "4. #### Family Costs:\n",
    "    The population is been classified by the number of children, from 0 to +4 children, to see how this would impact insurance costs.\n",
    "\n",
    "    * Average Costs:        0 = 12366       \n",
    "                            1 = 12731       \n",
    "                            2 = 15073       \n",
    "                            3 = 15355       \n",
    "                            +4 = 11731 \n",
    "    \n",
    "    A rise by number of children in the population insurance costs is visible until reaching +4 children, were them clearly descend, this could be produced by government\n",
    "    aids to favor and help big families.\n",
    "\n",
    "\n",
    "5. #### Regions:\n",
    "    First the population's been divided by regions to see if the data is spread evenly, to then analyze the total insurance charge per region.\n",
    "\n",
    "    * Population:   Southwest = 325       Southeast = 364       Northwest = 325       Northeast = 324\n",
    "    * Costs:        Southwest = 4012754        Southeast = 5363689        Northwest = 4035711        Northeast = 4343668 \n",
    "\n",
    "    The population's spreed is even, with more participants from the Southeast region, which is also the region where the insurance charge is also higher.\n",
    "\n",
    "\n",
    "6. #### Smokers:\n",
    "    The analysis is conducted to see the health trend in the population and to what level smoking impacts in insurance costs.\n",
    "\n",
    "    * Smokers: 274      Average cost = 32050         Max cost = 63770 \n",
    "    * Non smokers: 1064      Average cost = 8434         Max cost = 36910 \n",
    "\n",
    "    From this data is concluded that the health level is excelent, with a 79% of the population been non smokers. \n",
    "    It is clear too that smoking directly correlates with the insurance costs, been the most impactful factor from the whole analysis.\n",
    "\n",
    "\n",
    "7. #### BMI:\n",
    "    The population is been again divided in males and females, to analyze any possible trends in the 'BMI' percentage, and also if it correlates in higher costs.\n",
    "\n",
    "    * Male:\n",
    "        Average BMI = 30.94     Average cost = 13956\n",
    "        * Min BMI = 15.96       Cost = 1121\n",
    "        * Max BMI = 53.13       Cost = 62592\n",
    "    \n",
    "    * Female:\n",
    "        Average BMI = 30.38     Average cost = 12569\n",
    "        * Min BMI = 16.815       Cost = 1607\n",
    "        * Max BMI = 48.07       Cost = 63770\n",
    "\n",
    "    With this data is plausible to appoint that there's no tendecys between genres and BMI's percentage, it develops evenly for males and females.\n",
    "    It is also the second most impactful variable in the insurance costs. \n",
    "\n",
    "\n",
    "\n",
    "After analyzing all the variables, bias wasn't apparently found, so it is concluded that the data is reliable.\n",
    "\n"
   ]
  }
 ],
 "metadata": {
  "kernelspec": {
   "display_name": "Python 3",
   "language": "python",
   "name": "python3"
  },
  "language_info": {
   "codemirror_mode": {
    "name": "ipython",
    "version": 3
   },
   "file_extension": ".py",
   "mimetype": "text/x-python",
   "name": "python",
   "nbconvert_exporter": "python",
   "pygments_lexer": "ipython3",
   "version": "3.13.1"
  }
 },
 "nbformat": 4,
 "nbformat_minor": 4
}
